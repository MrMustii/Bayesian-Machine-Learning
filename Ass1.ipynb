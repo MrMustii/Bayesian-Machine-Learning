{
 "cells": [
  {
   "cell_type": "code",
   "execution_count": 2,
   "metadata": {},
   "outputs": [],
   "source": [
    "%matplotlib inline\n",
    "import pylab as plt\n",
    "import jax.numpy as jnp\n",
    "import seaborn as snb\n",
    "\n",
    "from scipy.stats import binom as binom_dist\n",
    "from scipy.stats import beta as beta_dist\n",
    "from scipy.special import beta as beta_fun, comb\n"
   ]
  },
  {
   "cell_type": "markdown",
   "metadata": {},
   "source": [
    "# Part 1: The beta-binomial model"
   ]
  },
  {
   "cell_type": "markdown",
   "metadata": {},
   "source": [
    "Your friend has set up a website for her new business. So far N = 115 potential customers has visited her\n",
    "site, but only y = 4 customers have completed a purchase. To plan her future investments, she asks you\n",
    "for help to compute the probability that at least one of the next N∗ = 20 customers will make a purchase.\n",
    "You decide to model the problem using the beta-binomial model with a uniform prior distribution on the\n",
    "probability of making a purchase $\\theta \\in [0,1]$:\n",
    "\n",
    "$$\\theta \\sim Beta(a_0,b_0)$$\n",
    "$$y|\\theta \\sim Binomial(N,\\theta)$$\n",
    "Where $a_0=b_0=1$"
   ]
  },
  {
   "cell_type": "markdown",
   "metadata": {},
   "source": [
    "---\n",
    "**Task 1.1: Compute the prior mean of θ and provide a 95%-credibility interval for the prior.**\n",
    "Hint: See Section 4.6.6 in Murphy1 for details on posterior/credibility intervals. The book discusses intervals\n",
    "for posterior distribution, but we can also use credibility intervals to summarize prior distributions"
   ]
  },
  {
   "cell_type": "code",
   "execution_count": 3,
   "metadata": {},
   "outputs": [
    {
     "name": "stdout",
     "output_type": "stream",
     "text": [
      "Prior mean: 0.5\n",
      "The 95% credible interval is (np.float64(0.025000000000000022), np.float64(0.975))\n"
     ]
    }
   ],
   "source": [
    "#  Prior $p(\\theta)=Beta(\\theta|a_0,b_0)$ \n",
    "# \n",
    "a_0, b_0 = 1,1\n",
    "prior = beta_dist(a_0, b_0)\n",
    "print(f'Prior mean: {prior.mean()}')\n",
    "print(f\"The 95% credible interval is {prior.interval(0.95)}\")"
   ]
  },
  {
   "cell_type": "markdown",
   "metadata": {},
   "source": [
    "---\n",
    "**Task 1.2: Compute the posterior mean of θ and provide a 95%-credibility interval for the\n",
    "posterior** "
   ]
  },
  {
   "cell_type": "code",
   "execution_count": 4,
   "metadata": {},
   "outputs": [
    {
     "name": "stdout",
     "output_type": "stream",
     "text": [
      "Posterior mean: 0.042735042735042736\n",
      "The 95% credible interval is (np.float64(0.01414155664664075), np.float64(0.08593831005795628))\n"
     ]
    }
   ],
   "source": [
    "# - Posterior $p(\\theta|y) = Beta(\\theta| y+a_0,N-y+b_0)$\n",
    "y=4\n",
    "N=115\n",
    "a = a_0 + y\n",
    "b = b_0 + N - y\n",
    "posterior = beta_dist(a, b)\n",
    "print(f'Posterior mean: {posterior.mean()}')\n",
    "print(f\"The 95% credible interval is {posterior.interval(0.95)}\")\n"
   ]
  },
  {
   "cell_type": "markdown",
   "metadata": {},
   "source": [
    "---\n",
    "let y∗ denote the number of purchases during the next N∗ = 20 visits.\n",
    "\n",
    "**Task 1.3: Compute and plot the posterior predictive distribution for $y^∗$ given y = 4.**"
   ]
  },
  {
   "cell_type": "markdown",
   "metadata": {},
   "source": [
    "Compute the posterior predictive distribution\n",
    "- $p(y^*=k|y)=\\int p(y^*|\\theta)p(\\theta|y)d\\theta=\\int Bin(y|N^*,\\theta)Beta(\\theta|y+a_o,N-y+b_0)d\\theta ={N^* \\choose k} \\theta^k(1-\\theta)^{N^*-k}\\frac{1}{B(\\alpha,\\beta)}\\theta^{\\alpha-1}(1-\\theta)^{\\beta-1}d\\theta$\n",
    "\t- $= {N^* \\choose k}\\frac{1}{B(\\alpha,\\beta)}\\int \\theta^{k+\\alpha-1}(1-\\theta)^{\\beta+N^*-k-1}d\\theta$ \n",
    "\n",
    "\n",
    "this is the functional form of a beta density and hence\n",
    "\n",
    "\n",
    "$={N^* \\choose k}\\frac{B(\\alpha+k,\\beta+N^*-k)}{B(\\alpha,\\beta)}$"
   ]
  },
  {
   "cell_type": "code",
   "execution_count": 5,
   "metadata": {},
   "outputs": [
    {
     "data": {
      "text/plain": [
       "Text(0.5, 1.0, 'Posterior predictive distribution')"
      ]
     },
     "execution_count": 5,
     "metadata": {},
     "output_type": "execute_result"
    },
    {
     "data": {
      "image/png": "[encoded data removed]",
      "text/plain": [
       "<Figure size 640x480 with 1 Axes>"
      ]
     },
     "metadata": {},
     "output_type": "display_data"
    }
   ],
   "source": [
    "def posterior_predictive(N_star,k,a,b):\n",
    "    return comb(N_star,k)*beta_fun(k+a,N_star-k+b)/beta_fun(a,b)\n",
    "ks = jnp.linspace(0,20,21)\n",
    "plt.bar(ks,posterior_predictive(20,ks,a,b))\n",
    "plt.xlabel('k: predicted number of purchases')\n",
    "plt.ylabel('p(y*=k|y) predicted probability')\n",
    "plt.title('Posterior predictive distribution')"
   ]
  },
  {
   "cell_type": "markdown",
   "metadata": {},
   "source": [
    "--- \n",
    "\n",
    "**Task 1.4: What is the posterior predictive probability that at least one of the next N∗ = 20 customers will make a purchase?**"
   ]
  },
  {
   "cell_type": "code",
   "execution_count": 6,
   "metadata": {},
   "outputs": [
    {
     "name": "stdout",
     "output_type": "stream",
     "text": [
      "The probability of observing at least 1 purchase in the next 20 customers is 0.5543908502644432\n"
     ]
    }
   ],
   "source": [
    "print(f'The probability of observing at least 1 purchase in the next 20 customers is {1-posterior_predictive(20,0,a,b)}')"
   ]
  },
  {
   "cell_type": "markdown",
   "metadata": {},
   "source": [
    "---\n",
    "\n",
    "**Task 1.5: Compute mean and variance of the posterior predictive distribution for $y^*$**"
   ]
  },
  {
   "cell_type": "code",
   "execution_count": 7,
   "metadata": {},
   "outputs": [
    {
     "name": "stdout",
     "output_type": "stream",
     "text": [
      "The expected number of purchases in the next 20 customers is 0.8547009229660034\n",
      "The variance of the number of purchases in the next 20 customers is 0.9499150514602661\n"
     ]
    }
   ],
   "source": [
    "probs = posterior_predictive(20,ks,a,b)\n",
    "print(f'The expected number of purchases in the next 20 customers is {jnp.sum(probs*ks)}')\n",
    "print(f'The variance of the number of purchases in the next 20 customers is {jnp.sum(probs*ks**2)-jnp.sum(probs*ks)**2}')"
   ]
  },
  {
   "cell_type": "markdown",
   "metadata": {},
   "source": [
    "# Part 2: Linear Gaussian systems"
   ]
  },
  {
   "cell_type": "markdown",
   "metadata": {},
   "source": [
    "Let $z_1, z_2 ∈ \\mathbb{R}^2$, and $y ∈ \\mathbb{R}$ be random variables and consider the following linear Gaussian system\n",
    "\n",
    "$\n",
    "z_1 \\sim \\mathcal{N}(0, vI) \\quad (3)\n",
    "$\n",
    "\n",
    "$\n",
    "z_2 \\mid z_1 \\sim \\mathcal{N}(z_1, vI) \\quad (4)\n",
    "$\n",
    "\n",
    "$$\n",
    "y \\mid z_2 \\sim \\mathcal{N}(a^T z_2, \\sigma^2) \\quad (5)\n",
    "$$\n",
    "\n",
    "where $( a \\in \\mathbb{R}^2 )$ is constant. The joint distribution of $( (z_1, z_2, y) )$ is given by:\n",
    "\n",
    "$$\n",
    "p(y, z_1, z_2) = p(y \\mid z_2) p(z_2 \\mid z_1) p(z_1). \\quad (6)\n",
    "$$\n",
    "\n",
    "To solve this part, you will need the equations for linear Gaussian systems in section 3.3 in Murphy1 as well\n",
    "as the basic rules of probability theory (sum rule, product rule, conditioning).\n"
   ]
  },
  {
   "cell_type": "markdown",
   "metadata": {},
   "source": [
    "---\n",
    "\n",
    "**Task 2.1: Determine the distribution p(y).**\n",
    "Hints: Compute $p(z_2)$ first. The equations for linear Gaussian systems in Section 3.3 in Murphy1 will behandy."
   ]
  },
  {
   "cell_type": "markdown",
   "metadata": {},
   "source": [
    "The given equations are:\n",
    "\n",
    "$$\n",
    "p(z_1) = \\mathcal{N}(z_1|0, vI)\n",
    "$$\n",
    "$$\n",
    "p(z_2 \\mid z_1) = \\mathcal{N}(z_2 \\mid z_1, vI)\n",
    "$$\n",
    "$$\n",
    "p(y \\mid z_2) = \\mathcal{N}(y|a^T z_2, \\sigma^2)\n",
    "$$\n",
    "\n",
    "\n",
    "Moreover, from the book (equation (3.38))\n",
    "\n",
    "$$p(z) = N(z|μ_z,Σ_z)$$\n",
    "\n",
    "$$p(y|z) = N(y|W_z + b,Σ_y)$$\n",
    "\n",
    "$$p(y)=\\mathcal{N}(y|W\\mu_z+b,\\Sigma_y+W\\Sigma_z W^T)$$\n",
    "\n",
    "\n",
    "First we try to find $p(z_2)$ using the formula above and use $p(z_2)$ to find $p(y)$\n",
    "\n",
    "$p(z_2)= \\mathcal{N}(W\\cdot0+0,vI+W\\cdot vI \\cdot W^T)$\n",
    "\n",
    "since W is the identity matrix because $w_z+b=\\mu_z$ \n",
    "\n",
    "$p(z_2)= \\mathcal{N}(0,vI+vI )$\n",
    "\n",
    "Apply again to get y \n",
    "\n",
    "$W=a^T$\n",
    "\n",
    "$p(y)= \\mathcal{N}(y|a^T \\cdot 0,\\sigma^2+a^T 2vI a)$\n"
   ]
  },
  {
   "cell_type": "markdown",
   "metadata": {},
   "source": [
    "---\n",
    "\n",
    "**Task 2.2: Determine the distribution $p(y, z_2|z_1)$.**"
   ]
  },
  {
   "cell_type": "markdown",
   "metadata": {},
   "source": [
    "From conditional rule $p(y,z_2|z_1)=\\frac{p(y,z_2,z_1)}{p(z_1)}$ where the joint distribution is given.\n",
    "$$\n",
    "p(y, z_1, z_2) = p(y \\mid z_2) p(z_2 \\mid z_1) p(z_1)\n",
    "$$\n",
    "Where\n",
    "$$\n",
    "p(z_1) = \\mathcal{N}(z_1|0, vI)\n",
    "$$\n",
    "\n",
    "$$\n",
    "p(z_2 \\mid z_1) = \\mathcal{N}(z_2 \\mid z_1, vI)\n",
    "$$\n",
    "\n",
    "$$\n",
    "p(y \\mid z_2) = \\mathcal{N}(y|a^T z_2, \\sigma^2)\n",
    "$$\n",
    "\n",
    "putting all of the above together \n",
    "$$p(y,z_2|z_1)= \\frac{\\mathcal{N}(z_1|0, vI) \\cdot \\mathcal{N}(z_2 \\mid z_1, vI) \\cdot \\mathcal{N}(y|a^T z_2, \\sigma^2) }{ \\mathcal{N}(z_1|0, vI)}$$\n",
    "\n",
    "$$p(y,z_2|z_1)= \\mathcal{N}(z_2 \\mid z_1, vI) \\cdot \\mathcal{N}(y|a^T z_2, \\sigma^2)$$"
   ]
  },
  {
   "cell_type": "markdown",
   "metadata": {},
   "source": [
    "---\n",
    "\n",
    "**Task 2.3: Determine the distribution $p(y|z_1)$**"
   ]
  },
  {
   "cell_type": "markdown",
   "metadata": {},
   "source": [
    "From conditional independence rule $p(a,b|c)=p(a|c)p(b|c)$\n",
    "\n",
    "$$p(y,z_2|z_1) = p(y|z_1)p(z_2|z_1) \\to  p(y|z_1) = \\frac {p(y,z_2|z_1)}{p(z_2|z_1)}$$\n",
    "\n",
    "$$= \\frac{\\mathcal{N}(z_2 \\mid z_1, vI) \\cdot \\mathcal{N}(y|a^T z_2, \\sigma^2)}{\\mathcal{N}(z_2 \\mid z_1, vI)} =\\mathcal{N}(y|a^T z_2, \\sigma^2)$$"
   ]
  },
  {
   "cell_type": "markdown",
   "metadata": {},
   "source": [
    "---\n",
    "\n",
    "**Task 2.4: Determine the distribution $p(z_1|y)$.**"
   ]
  },
  {
   "cell_type": "markdown",
   "metadata": {},
   "source": [
    "using Bayes rule for Gaussians (Also from the book)\n",
    "$$\n",
    "p(z|y)=\\mathcal{N}(z|\\mu_{z|y},\\Sigma_{z|y})\n",
    "$$\n",
    "where \n",
    "$$\n",
    "\\Sigma_{z|y}^{-1}=\\Sigma_z^{-1}+W^T\\Sigma_y^{-1}W\n",
    "$$\n",
    "$$\n",
    "\\mu_{z|y}=\\Sigma_{z|y} [W^T\\Sigma_y^{-1}(y-b)+\\Sigma_z^{-1}\\mu_z]\n",
    "$$\n",
    "\n",
    "$\\Sigma_{z|y}^{-1}=(vI)^{-1}+a\\sigma^{-2}a^T$\n",
    "\n",
    "$\\mu_{z|y}=\\Sigma_{z|y}[a\\sigma^{-2}y+(vI)^{-1}*0]$\n",
    "\n",
    "$\\mu_{z|y}=\\frac{a\\sigma^{-2}y}{(vI+a\\sigma^{-2}a^T)}$\n",
    "\n",
    "$p(z|y)=\\mathcal{N}(z|\\frac{a\\sigma^{-2}y}{(vI+a\\sigma^{-2}a^T)},((vI)^{-1}+a\\sigma^{-2}a^T)^{-1})$\n"
   ]
  },
  {
   "cell_type": "markdown",
   "metadata": {},
   "source": [
    "using Bayes rule for Gaussians (Also from the book)\n",
    "$$\n",
    "p(z|y)=\\mathcal{N}(z|\\mu_{z|y},\\Sigma_{z|y})\n",
    "$$\n",
    "where \n",
    "$$\n",
    "\\Sigma_{z|y}^{-1}=\\Sigma_z^{-1}+W^T\\Sigma_y^{-1}W\n",
    "$$\n",
    "$$\n",
    "\\mu_{z|y}=\\Sigma_{z|y} [W^T\\Sigma_y^{-1}(y-b)+\\Sigma_z^{-1}\\mu_z]\n",
    "$$\n",
    "\n",
    "$\\Sigma_{z|y}^{-1}=(vI)^{-1}+a\\sigma^{-2}a^T$\n",
    "\n",
    "$\\mu_{z|y}=\\Sigma_{z|y}[a\\sigma^{-2}y+(vI)^{-1}*0]$\n",
    "\n",
    "$\\mu_{z|y}=\\frac{a\\sigma^{-2}y}{(vI+a\\sigma^{-2}a^T)}$\n",
    "\n",
    "$p(z|y)=\\mathcal{N}(z|\\frac{a\\sigma^{-2}y}{(vI+a\\sigma^{-2}a^T)},(vI+a\\sigma^{-2}a^T)^{-1})$\n"
   ]
  },
  {
   "cell_type": "markdown",
   "metadata": {},
   "source": [
    "# Part 3: A conjugate model for count data\n",
    "In week 1, we studied the Beta-binomial model, which is an example of a so-called **conjugate model**. In this exercise, you will work with another conjugate model, namely the **Poisson-Gamma model**, where the likelihood takes the form of a Poisson distribution,  $y_i \\mid \\lambda \\sim \\text{Poisson}(\\lambda)$  with rate  $\\lambda > 0,$  and the prior on  $\\lambda$  is a Gamma distribution, i.e.,  $\\lambda \\sim \\text{Gamma}(a_0, b_0),$  where  $a_0 > 0$  and  $b_0$  are hyperparameters known as the **shape** and **rate**, respectively.  \n",
    "\n",
    "The Poisson distribution is a discrete distribution, which is often applied to model **count data**, where  $y_i \\in \\{0, 1, 2, \\dots\\}$  are non-negative integers. The probability mass function (PMF) for the Poisson distribution is:  $$\n",
    "p(y_i \\mid \\lambda) = \\frac{\\lambda^{y_i} e^{-\\lambda}}{y_i!} \\quad (7)$$ \n",
    "\n",
    "for  $y_i \\in \\{0, 1, 2, \\dots\\}.$  \n",
    "\n",
    "The Gamma distribution, e.g.,  $\\lambda \\sim \\text{Gamma}(a_0, b_0),$  is a distribution over the non-negative real line, i.e.,  $\\lambda > 0,$  with the following probability density function (PDF):  \n",
    "$$\n",
    "p(\\lambda \\mid a_0, b_0) = \\frac{b_0^{a_0}}{\\Gamma(a_0)} \\lambda^{a_0 - 1} e^{-b_0 \\lambda} \\quad (8)$$\n",
    "\n",
    "where $\\Gamma(x)$  is the gamma function.  Consider now the following model:  \n",
    "$$\n",
    "y_i \\mid \\lambda \\sim \\text{Poisson}(\\lambda) \\quad (9)$$  \n",
    "$$\n",
    "\\lambda \\sim \\text{Gamma}(a_0, b_0) \\quad (10)$$  \n",
    "where  $\\{ y_i \\}$  are assumed to be *conditionally independent* given  $\\lambda.$  Suppose we collect  $N$  observations such that:  $y = \\{ y_i \\}_{i=1}^N.$  "
   ]
  },
  {
   "cell_type": "markdown",
   "metadata": {},
   "source": [
    "---\n",
    "**Task 3.1: Determine the joint distribution of (y, λ)**"
   ]
  },
  {
   "cell_type": "markdown",
   "metadata": {},
   "source": [
    "We can decompose the likelihood using the conditional independence $p(y_1,y_2|\\theta)=p(y_1|\\theta)p(y_2|\\theta)=\\prod_{n=1}^N p(y_n|\\theta)$. Moreover, joint distribution will be (from the Product rule) $p(y,\\lambda)=p(y|\\lambda)p(\\lambda)=\\prod_{n=1}^Np(y_n|\\lambda)p(\\lambda)$. \n",
    "\n",
    "where $p(y_i \\mid \\lambda) = \\frac{\\lambda^{y_i} e^{-\\lambda}}{y_i!}$ hence \n",
    "\n",
    "$$p(y,\\lambda)=p(y|\\lambda)p(\\lambda)=\\prod_{n=1}^N\\frac{e^{-\\lambda} \\lambda^{y_n}}{y_n!}p(\\lambda)=e^{-N\\lambda}\\prod_{n=1}^N\\frac{\\lambda^{y_n}}{y_n!}p(\\lambda)$$ \n",
    "\n",
    "and from equation (8) \n",
    "\n",
    "$$p(\\lambda \\mid a_0, b_0) = \\frac{b_0^{a_0}}{\\Gamma(a_0)} \\lambda^{a_0 - 1} e^{-b_0 \\lambda}$$ \n",
    "\n",
    "Therefore\n",
    "\n",
    "$p(y,\\lambda)=e^{-N\\lambda}(\\prod_{n=1}^N\\frac{\\lambda^{y_n}}{y_n!})\\frac{b_0^{a_0}}{\\Gamma(a_0)} \\lambda^{a_0 - 1} e^{-b_0 \\lambda} $. "
   ]
  },
  {
   "cell_type": "markdown",
   "metadata": {},
   "source": [
    "---\n",
    "**Task 3.2: Show that the functional form of a Gamma distribution is given by $\\log p(λ|a, b) =(a − 1) \\log(λ) − bλ + constant$.**"
   ]
  },
  {
   "cell_type": "markdown",
   "metadata": {},
   "source": [
    "$p(\\lambda \\mid a, b) = \\frac{b^{a}}{\\Gamma(a)} \\lambda^{a - 1} e^{-b \\lambda}$\n",
    "\n",
    "take the natural log at both sides from some reason \n",
    "\n",
    "$\\ln p(\\lambda \\mid a, b) = \\ln(\\frac{b^{a}}{\\Gamma(a)})+\\ln( \\lambda^{a - 1})+\\ln (e^{-b \\lambda}) $\n",
    "\n",
    "$= constant + (a - 1)\\ln(\\lambda)-b \\lambda$\n"
   ]
  },
  {
   "cell_type": "markdown",
   "metadata": {},
   "source": [
    "---\n",
    "**Task 3.3: Derive the analytical expression for the posterior distribution p(λ|y) and show that it is a Gamma-distribution**\n"
   ]
  },
  {
   "cell_type": "markdown",
   "metadata": {},
   "source": [
    "Posterior distribution can be obtained by using bayes rule  $p(\\lambda|y)=\\frac{p(y|\\lambda)p(\\lambda)}{p(y)}$. the evidence p(y) is independent on $\\lambda$ hence the posterior is proportional to  $\\propto p(y|\\lambda)p(\\lambda) \\to \\ln(p(\\lambda|y)) \\propto \\ln(p(y|\\lambda)) \\ln(p(\\lambda))$????????????????? \n",
    "\n",
    " $$p(y|\\lambda) = \\prod_{n=1}^N \\frac{\\lambda^{y_n}e^{-\\lambda}}{y_i!} \\to$$\n",
    " \n",
    " $$\\ln(p(y|\\lambda))=\\sum_{n=1}^N \\ln(\\lambda)y_n+\\lambda-\\ln(y_n!)$$\n",
    "\n",
    "$$p(\\lambda \\mid a_0, b_0) = \\frac{b_0^{a_0}}{\\Gamma(a_0)} \\lambda^{a_0 - 1} e^{-b_0 \\lambda} \\to ln(p(\\lambda \\mid a_0, b_0)) = a_0\\ln(b_0)-\\ln(\\Gamma(a_0))+(a_0-1)*\\ln(\\lambda)-b_0*\\lambda$$\n",
    "\n",
    "Simplifying and joining constant terms together\n",
    "\n",
    "$\\ln p(\\lambda|y)\\propto -\\lambda (N+b_0)+\\ln(\\lambda)(a_0-Y)+constant$\n",
    "where $Y=\\sum_{n=1}^Ny_n$\n",
    "\n",
    "which has the functional form of a Gamma-distribution as seen in 3.2 where $a=a_0+Y+1$  and $b=b_0+N$\n",
    "\n"
   ]
  },
  {
   "cell_type": "markdown",
   "metadata": {},
   "source": [
    "---\n",
    "Suppose we observe $y_1 = 7$, $y_2 = 4$, $y_3 = 8$, $y_4 = 11$, and $y_5 = 12$ such that $N = 5$. Assume $a_0 = 1$ and $b_0 = \\frac{1}{10}$\n",
    "\n",
    "**Task 3.4: Determine the posterior distribution for λ given the data above and report the mean.**\n",
    "\n",
    "Hints: If $λ ∼ Gamma(a, b)$, then $\\mathbb{E} [λ] = \\frac{a}{b}$"
   ]
  },
  {
   "cell_type": "code",
   "execution_count": 21,
   "metadata": {},
   "outputs": [
    {
     "name": "stdout",
     "output_type": "stream",
     "text": [
      "Posterior mean: 8.627450980392158\n",
      "8.627450980392158\n"
     ]
    }
   ],
   "source": [
    "from scipy.stats import gamma\n",
    "\n",
    "y= [7, 4, 8, 11, 12]\n",
    "a_0 = 1\n",
    "b_0 = 1/10\n",
    "N = len(y)\n",
    "posterior_G = gamma(a_0 + sum(y)+1, scale=1/(N+b_0))\n",
    "print(f'Posterior mean: {posterior_G.mean()}')\n",
    "print((a_0 + sum(y)+1)/(N+b_0))\n"
   ]
  },
  {
   "cell_type": "markdown",
   "metadata": {},
   "source": [
    "---\n",
    "**Task 3.5: Plot p(λ) and p(λ|y) for λ ∈ [0, 30].**\n",
    "Hints: Implement the log density first for numeric stability. The function scipy.stats.gammaln implements the logarithm of the Γ(x) function, i.e. log Γ(x)."
   ]
  },
  {
   "cell_type": "code",
   "execution_count": 22,
   "metadata": {},
   "outputs": [
    {
     "data": {
      "image/png": "[encoded data removed]",
      "text/plain": [
       "<Figure size 640x480 with 1 Axes>"
      ]
     },
     "metadata": {},
     "output_type": "display_data"
    },
    {
     "name": "stdout",
     "output_type": "stream",
     "text": [
      "Prior mean: 10.0\n"
     ]
    },
    {
     "data": {
      "image/png": "[encoded data removed]",
      "text/plain": [
       "<Figure size 640x480 with 1 Axes>"
      ]
     },
     "metadata": {},
     "output_type": "display_data"
    }
   ],
   "source": [
    "lambdas = jnp.linspace(0,30,100)\n",
    "plt.plot(lambdas,posterior_G.pdf(lambdas))\n",
    "plt.title('Posterior distribution of the rate parameter')\n",
    "plt.xlabel('lambda')\n",
    "plt.ylabel('p(lambda|y)')\n",
    "plt.show()\n",
    "\n",
    "prior_G = gamma(a_0, scale=1/b_0)\n",
    "print(f'Prior mean: {prior_G.mean()}')\n",
    "plt.plot(lambdas,prior_G.pdf(lambdas))\n",
    "plt.title('Prior distribution of the rate parameter')\n",
    "plt.xlabel('lambda')\n",
    "plt.ylabel('p(lambda)')\n",
    "plt.show()\n"
   ]
  }
 ],
 "metadata": {
  "kernelspec": {
   "display_name": "BML",
   "language": "python",
   "name": "python3"
  },
  "language_info": {
   "codemirror_mode": {
    "name": "ipython",
    "version": 3
   },
   "file_extension": ".py",
   "mimetype": "text/x-python",
   "name": "python",
   "nbconvert_exporter": "python",
   "pygments_lexer": "ipython3",
   "version": "3.11.11"
  }
 },
 "nbformat": 4,
 "nbformat_minor": 2
}
